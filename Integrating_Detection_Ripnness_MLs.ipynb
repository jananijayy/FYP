{
 "cells": [
  {
   "cell_type": "markdown",
   "id": "bc53039d",
   "metadata": {},
   "source": [
    "## Integration of Trained Model to Detect Tomato and Pappaya\n",
    "\n",
    "In this code the pappaya and tomato will detect and they will labled according to their maturity."
   ]
  },
  {
   "cell_type": "code",
   "execution_count": 3,
   "id": "ca86fdc0",
   "metadata": {},
   "outputs": [
    {
     "name": "stdout",
     "output_type": "stream",
     "text": [
      "[0]\n",
      "Pappaya is unmature\n",
      "[1]\n",
      "Tomato is unmature\n"
     ]
    }
   ],
   "source": [
    "import os\n",
    "import numpy as np\n",
    "import cv2\n",
    "import pickle\n",
    "import joblib\n",
    "\n",
    "path='images/test'\n",
    "data=[]\n",
    "\n",
    "fruit_detection_model = joblib.load('fruit_detection')\n",
    "tomato_ripness_detection_model = joblib.load('tomato_ripness')\n",
    "pappaya_ripness_detection_model = joblib.load('pappaya_ripness')\n",
    "\n",
    "for img in os.listdir(path):\n",
    "    imgpath = os.path.join(path, img)\n",
    "    fruit_img=cv2.imread(imgpath,1)\n",
    "    hsv = cv2.cvtColor(fruit_img, cv2.COLOR_BGR2HSV)\n",
    "    try:\n",
    "        hsv=cv2.resize(hsv,(50,50))\n",
    "        \n",
    "        image=np.array(hsv).flatten()\n",
    "\n",
    "        data.append([image])\n",
    "    except Exception as e:\n",
    "        pass\n",
    "\n",
    "for img in data:\n",
    "    prediction = fruit_detection_model.predict(img)\n",
    "    print(prediction)\n",
    "    \n",
    "    if prediction == 0:\n",
    "        \n",
    "        rippnes=pappaya_ripness_detection_model.predict(img)\n",
    "        if ripness == 0:\n",
    "            print('Pappaya is unmature')\n",
    "        elif ripness == 1:\n",
    "            print('Pappaya is patially mature')\n",
    "        elif ripness == 2:\n",
    "            print('Pappaya is mature')\n",
    "        \n",
    "    elif prediction == 1:\n",
    "        ripness=tomato_ripness_detection_model.predict(img)\n",
    "        if ripness == 0:\n",
    "            print('Tomato is unmature')\n",
    "        elif ripness == 1:\n",
    "            print('Tomato is mature')  \n",
    "    else:\n",
    "        pass\n",
    "    "
   ]
  }
 ],
 "metadata": {
  "kernelspec": {
   "display_name": "conda_python3",
   "language": "python",
   "name": "conda_python3"
  },
  "language_info": {
   "codemirror_mode": {
    "name": "ipython",
    "version": 3
   },
   "file_extension": ".py",
   "mimetype": "text/x-python",
   "name": "python",
   "nbconvert_exporter": "python",
   "pygments_lexer": "ipython3",
   "version": "3.8.12"
  }
 },
 "nbformat": 4,
 "nbformat_minor": 5
}
